{
 "cells": [
  {
   "cell_type": "code",
   "execution_count": 2,
   "metadata": {},
   "outputs": [],
   "source": [
    "import json\n",
    "from glob import glob"
   ]
  },
  {
   "cell_type": "code",
   "execution_count": 3,
   "metadata": {},
   "outputs": [],
   "source": [
    "def load_json(path):\n",
    "    with open(path, 'r') as f: return json.load(f)\n",
    "\n",
    "def load_text(path):\n",
    "    with open(path, 'r') as file: return file.read()"
   ]
  },
  {
   "cell_type": "code",
   "execution_count": 17,
   "metadata": {},
   "outputs": [],
   "source": [
    "data_paths = glob('/home/pphuc/Coding/Project/ZAIC-2023-Elementary-Math-Solving/datasets/raw/gpt-35-only-missing/*')\n",
    "\n",
    "data_json = {\"data\": []}\n",
    "for data_path in data_paths:\n",
    "    data = load_json(data_path)\n",
    "    if len(data['explaination']) > 5000:\n",
    "        print(data_path)\n",
    "    data_json['data'].append(data)"
   ]
  },
  {
   "cell_type": "code",
   "execution_count": 18,
   "metadata": {},
   "outputs": [],
   "source": [
    "raw_data = load_json('/home/pphuc/Coding/Project/ZAIC-2023-Elementary-Math-Solving/datasets/math_train.json')"
   ]
  },
  {
   "cell_type": "code",
   "execution_count": 20,
   "metadata": {},
   "outputs": [],
   "source": [
    "for idx, data in enumerate(raw_data['data']):\n",
    "    if 'explanation' in data: continue\n",
    "    id_raw = data['id']\n",
    "    for new_data in data_json['data']:\n",
    "        if new_data['id'] == id_raw: break\n",
    "    # print(new_data)\n",
    "    raw_data['data'][idx]['explanation'] = new_data['explaination']\n",
    "    # print(raw_data['data'][idx])\n",
    "    # break\n"
   ]
  },
  {
   "cell_type": "code",
   "execution_count": 22,
   "metadata": {},
   "outputs": [],
   "source": [
    "def save_json(path, file_save):\n",
    "    with open(path, 'w') as f: return json.dump(file_save, f)\n",
    "\n",
    "save_json('/home/pphuc/Coding/Project/ZAIC-2023-Elementary-Math-Solving/datasets/with-missing-explain-3.5.json', raw_data)"
   ]
  }
 ],
 "metadata": {
  "kernelspec": {
   "display_name": "AI",
   "language": "python",
   "name": "python3"
  },
  "language_info": {
   "codemirror_mode": {
    "name": "ipython",
    "version": 3
   },
   "file_extension": ".py",
   "mimetype": "text/x-python",
   "name": "python",
   "nbconvert_exporter": "python",
   "pygments_lexer": "ipython3",
   "version": "3.9.16"
  }
 },
 "nbformat": 4,
 "nbformat_minor": 2
}
