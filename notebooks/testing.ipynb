{
 "cells": [
  {
   "cell_type": "code",
   "execution_count": 144,
   "metadata": {},
   "outputs": [],
   "source": [
    "import json\n",
    "\n",
    "def load_json(path):\n",
    "    with open(path, 'r') as f: return json.load(f)\n",
    "\n",
    "data_choice = []\n",
    "data_wrong = []\n",
    "dict_count = {}\n",
    "dataset = load_json('/home/pphuc/Coding/Project/ZAIC-2023-Elementary-Math-Solving/datasets/sorted_with_missing_explain_4.json')\n",
    "for idx, data in enumerate(dataset['data']):\n",
    "    if int(data['id']) < 400 or int(data['id']) > 600: \n",
    "        continue\n",
    "    data_choice.append(data)\n",
    "    # if int(data['id']) == 423: print(idx)\n",
    "    # if 'lỗi' in data['explanation']:\n",
    "    #     data_wrong.append(data)\n",
    "    #     print(idx)"
   ]
  },
  {
   "cell_type": "code",
   "execution_count": 183,
   "metadata": {},
   "outputs": [
    {
     "name": "stdout",
     "output_type": "stream",
     "text": [
      "483\n",
      "Gia đình Mai đi du lịch từ ngày 29 tháng 7 đến hết ngày 5 tháng 8 cùng năm. Vậy số ngày gia đình Mai đi du lịch là:\n",
      "['A. 5 ngày', 'B. 6 ngày', 'C. 7 ngày', 'D. 8 ngày']\n",
      "D. 8 ngày\n"
     ]
    }
   ],
   "source": [
    "data_current = 83\n",
    "\n",
    "print(data_choice[data_current]['id'])\n",
    "print(data_choice[data_current]['question'])\n",
    "print(data_choice[data_current]['choices'])\n",
    "print(data_choice[data_current]['answer'])"
   ]
  },
  {
   "cell_type": "code",
   "execution_count": 184,
   "metadata": {},
   "outputs": [
    {
     "name": "stdout",
     "output_type": "stream",
     "text": [
      "Tháng 7 có 31 ngày.\n",
      " Vậy số ngày gia đình Mai đi du lịch là: 3 + 5 = 8 (ngày)\n",
      " Đáp số: 8 ngày\n"
     ]
    }
   ],
   "source": [
    "print(data_choice[data_current]['explanation'])"
   ]
  },
  {
   "cell_type": "code",
   "execution_count": 185,
   "metadata": {},
   "outputs": [],
   "source": [
    "new_explain = \"\"\"Để tính số ngày mà gia đình Mai đi du lịch, ta cần xác định số ngày từ ngày 29 tháng 7 đến hết ngày 5 tháng 8 trong cùng một năm.\n",
    "\n",
    "- Số ngày còn lại trong tháng 7 từ ngày 29 đến hết tháng 7 (31 ngày) là \\( 31 - 29 + 1 = 3 \\) ngày (bao gồm cả ngày 29 và 31).\n",
    "- Số ngày từ đầu tháng 8 đến ngày 5 tháng 8 là 5 ngày.\n",
    "\n",
    "Vậy tổng số ngày du lịch của gia đình Mai là \\( 3 + 5 = 8 \\) ngày.\"\"\""
   ]
  },
  {
   "cell_type": "code",
   "execution_count": 188,
   "metadata": {},
   "outputs": [],
   "source": [
    "# dataset['data'][476]\n",
    "dataset['data'][476]['explanation'] = new_explain"
   ]
  },
  {
   "cell_type": "code",
   "execution_count": 189,
   "metadata": {},
   "outputs": [],
   "source": [
    "import json\n",
    "\n",
    "def save_json(path, file_save):\n",
    "    with open(path, 'w', encoding='utf-8') as f: return json.dump(file_save, f, ensure_ascii=False)\n",
    "\n",
    "save_json('/home/pphuc/Coding/Project/ZAIC-2023-Elementary-Math-Solving/datasets/sorted_with_missing_explain_4.json', dataset)"
   ]
  },
  {
   "cell_type": "code",
   "execution_count": null,
   "metadata": {},
   "outputs": [],
   "source": []
  }
 ],
 "metadata": {
  "kernelspec": {
   "display_name": "AI",
   "language": "python",
   "name": "python3"
  },
  "language_info": {
   "codemirror_mode": {
    "name": "ipython",
    "version": 3
   },
   "file_extension": ".py",
   "mimetype": "text/x-python",
   "name": "python",
   "nbconvert_exporter": "python",
   "pygments_lexer": "ipython3",
   "version": "3.9.16"
  }
 },
 "nbformat": 4,
 "nbformat_minor": 2
}
