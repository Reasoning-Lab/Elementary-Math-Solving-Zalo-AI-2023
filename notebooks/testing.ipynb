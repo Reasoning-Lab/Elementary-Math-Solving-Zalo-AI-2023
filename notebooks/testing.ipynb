{
 "cells": [
  {
   "cell_type": "code",
   "execution_count": 224,
   "metadata": {},
   "outputs": [],
   "source": [
    "import json\n",
    "\n",
    "def load_json(path):\n",
    "    with open(path, 'r') as f: return json.load(f)\n",
    "\n",
    "data_choice = []\n",
    "data_wrong = []\n",
    "dict_count = {}\n",
    "dataset = load_json('/home/pphuc/Coding/Project/ZAIC-2023-Elementary-Math-Solving/datasets/sorted_with_missing_explain_4.json')\n",
    "for idx, data in enumerate(dataset['data']):\n",
    "    if int(data['id']) < 400 or int(data['id']) > 600: \n",
    "        continue\n",
    "    data_choice.append(data)\n",
    "    # if int(data['id']) == 423: print(idx)\n",
    "    # if 'lỗi' in data['explanation']:\n",
    "    #     data_wrong.append(data)\n",
    "    #     print(idx)"
   ]
  },
  {
   "cell_type": "code",
   "execution_count": 250,
   "metadata": {},
   "outputs": [
    {
     "name": "stdout",
     "output_type": "stream",
     "text": [
      "600\n",
      "Hiệu của số tròn chục lớn nhất có ba chữ số và số nhỏ nhất có ba chữ số là:\n",
      "['A. 890', 'B. 800', 'C. 880', 'D. 790']\n",
      "A. 890\n"
     ]
    }
   ],
   "source": [
    "data_current = 199\n",
    "\n",
    "print(data_choice[data_current]['id'])\n",
    "print(data_choice[data_current]['question'])\n",
    "print(data_choice[data_current]['choices'])\n",
    "print(data_choice[data_current]['answer'])"
   ]
  },
  {
   "cell_type": "code",
   "execution_count": 248,
   "metadata": {},
   "outputs": [
    {
     "name": "stdout",
     "output_type": "stream",
     "text": [
      "Đầu tiên, chúng ta cần xác định số tròn chục lớn nhất có ba chữ số và số nhỏ nhất có ba chữ số.\n",
      "\n",
      "Số tròn chục lớn nhất có ba chữ số là số mà tất cả các chữ số đều lớn nhất có thể và chữ số cuối cùng là 0. Đó là số 990.\n",
      "\n",
      "Số nhỏ nhất có ba chữ số là số mà tất cả các chữ số đều nhỏ nhất có thể. Đó là số 100.\n",
      "\n",
      "Tiếp theo, chúng ta cần tìm hiệu của hai số này. Hiệu của hai số là kết quả của phép trừ số lớn hơn trừ đi số nhỏ hơn.\n",
      "\n",
      "990 - 100 = 890\n",
      "\n",
      "Vậy, hiệu của số tròn chục lớn nhất có ba chữ số và số nhỏ nhất có ba chữ số là 890. Đáp án đúng là 890.\n"
     ]
    }
   ],
   "source": [
    "print(data_choice[data_current]['explanation'])"
   ]
  },
  {
   "cell_type": "code",
   "execution_count": 62,
   "metadata": {},
   "outputs": [],
   "source": [
    "new_explain = \"\"\"Để giải quyết vấn đề này, chúng ta cần xem xét các cách phân chia 7 nền đất cho hai nhóm sao cho thỏa mãn yêu cầu: nhóm thứ nhất muốn mua 2 nền kề nhau và nhóm thứ hai muốn mua 3 nền kề nhau. Ta sẽ phân tích từng bước:\n",
    "\n",
    "1. **Chọn Nền cho Nhóm Thứ Nhất (2 nền kề nhau):** Trong 7 nền, có 6 cách chọn 2 nền liên tiếp (1-2, 2-3, 3-4, 4-5, 5-6, 6-7).\n",
    "\n",
    "2. **Chọn Nền cho Nhóm Thứ Hai (3 nền kề nhau):** Tùy thuộc vào vị trí nhóm thứ nhất đã chọn, số lượng cách chọn 3 nền liên tiếp cho nhóm thứ hai sẽ thay đổi.\n",
    "\n",
    "    - Nếu nhóm thứ nhất chọn 2 nền ở đầu hoặc cuối (ví dụ 1-2 hoặc 6-7), thì còn lại 5 nền và có 3 cách chọn 3 nền liên tiếp (3-4-5, 4-5-6, 2-3-4 hoặc 3-4-5).\n",
    "    - Nếu nhóm thứ nhất chọn 2 nền ở giữa (ví dụ 2-3, 3-4, 4-5, 5-6), thì còn lại 4 nền và chỉ có 2 cách chọn 3 nền liên tiếp (ví dụ với 2-3, ta có 4-5-6 hoặc 5-6-7).\n",
    "\n",
    "3. **Tính Tổng Cách Chọn:** Cần phải tính tổng số cách chọn cho cả hai nhóm, tùy thuộc vào vị trí chọn của nhóm thứ nhất.\n",
    "\n",
    "Ta sẽ tiến hành tính toán cụ thể:\n",
    "\n",
    "Có tổng cộng 14 cách chọn nền nhà sao cho thỏa mãn yêu cầu của cả hai nhóm: nhóm thứ nhất muốn mua 2 nền kề nhau và nhóm thứ hai muốn mua 3 nền kề nhau.\"\"\""
   ]
  },
  {
   "cell_type": "code",
   "execution_count": 65,
   "metadata": {},
   "outputs": [],
   "source": [
    "# dataset['data'][492]\n",
    "dataset['data'][492]['explanation'] = new_explain"
   ]
  },
  {
   "cell_type": "code",
   "execution_count": 66,
   "metadata": {},
   "outputs": [],
   "source": [
    "import json\n",
    "\n",
    "def save_json(path, file_save):\n",
    "    with open(path, 'w', encoding='utf-8') as f: return json.dump(file_save, f, ensure_ascii=False)\n",
    "\n",
    "save_json('/home/pphuc/Coding/Project/ZAIC-2023-Elementary-Math-Solving/datasets/sorted_with_missing_explain_4.json', dataset)"
   ]
  },
  {
   "cell_type": "code",
   "execution_count": null,
   "metadata": {},
   "outputs": [],
   "source": []
  }
 ],
 "metadata": {
  "kernelspec": {
   "display_name": "AI",
   "language": "python",
   "name": "python3"
  },
  "language_info": {
   "codemirror_mode": {
    "name": "ipython",
    "version": 3
   },
   "file_extension": ".py",
   "mimetype": "text/x-python",
   "name": "python",
   "nbconvert_exporter": "python",
   "pygments_lexer": "ipython3",
   "version": "3.9.16"
  }
 },
 "nbformat": 4,
 "nbformat_minor": 2
}
