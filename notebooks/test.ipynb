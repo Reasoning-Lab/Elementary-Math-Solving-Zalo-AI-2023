{
 "cells": [
  {
   "cell_type": "code",
   "execution_count": 236,
   "metadata": {},
   "outputs": [],
   "source": [
    "import json\n",
    "import random"
   ]
  },
  {
   "cell_type": "code",
   "execution_count": 237,
   "metadata": {},
   "outputs": [],
   "source": [
    "def load_json(path):\n",
    "    with open(path, 'r') as f: return json.load(f)\n",
    "\n",
    "def load_text(path):\n",
    "    with open(path, 'r') as file: return file.read()\n",
    "\n",
    "def number_choice_sample(number_sample=1200):\n",
    "    number_choice1, number_choice2, number_choice3 = random.choices(range(number_sample), k=3)\n",
    "    return number_choice1, number_choice2, number_choice3"
   ]
  },
  {
   "cell_type": "code",
   "execution_count": 303,
   "metadata": {},
   "outputs": [
    {
     "name": "stdout",
     "output_type": "stream",
     "text": [
      "{'id': '915', 'question': 'Một hình hộp chữ nhật có chiều dài 5dm, chiều rộng là 3,5dm và chiều cao là 2dm. Diện tích xung quanh của hình hộp chữ nhật đó là:', 'explaination': 'Để tính diện tích xung quanh của hình hộp chữ nhật, ta cần tính tổng diện tích của các mặt bên của hình hộp.\\n\\nHình hộp chữ nhật có 6 mặt, trong đó có 2 mặt đáy có diện tích là chiều dài nhân chiều rộng, tức là 5dm x 3,5dm = 17,5dm2.\\n\\nCòn lại có 4 mặt bên, mỗi mặt bên có diện tích là chiều dài nhân chiều cao, tức là 5dm x 2dm = 10dm2.\\n\\nVậy tổng diện tích xung quanh của hình hộp chữ nhật là 2 lần diện tích đáy cộng với tổng diện tích 4 mặt bên, tức là 17,5dm2 + 4 x 10dm2 = 17,5dm2 + 40dm2 = 57,5dm2.\\n\\nTuy nhiên, trong các lựa chọn đã cho, không có đáp án là 57,5dm2. Vậy ta cần xem xét lại.\\n\\nĐể tính diện tích xung quanh của hình hộp chữ nhật, ta cần tính tổng diện tích của các mặt bên của hình hộp.\\n\\nHình hộp chữ nhật có 6 mặt, trong đó có 2 mặt đáy có diện tích là chiều dài nhân chiều rộng, tức là 5dm x 3,5dm = 17,5dm2.\\n\\nCòn lại có 4 mặt bên, mỗi mặt bên có diện tích là chiều dài nhân chiều cao, tức là 5dm x 2dm = 10dm2.\\n\\nVậy tổng diện tích xung quanh của hình hộp chữ nhật là 2 lần diện tích đáy cộng với tổng diện tích 4 mặt bên, tức là 17,5dm2 + 4 x 10dm2 = 17,5dm2 + 40dm2 = 57,5dm2.\\n\\nTuy nhiên, trong các lựa chọn đã cho, không có đáp án là 57,5dm2. Vậy ta cần xem xét lại.\\n\\nĐể tính diện tích xung quanh của hình hộp chữ nhật, ta cần tính tổng diện tích của các mặt bên của hình hộp.\\n\\nHình hộp chữ nhật có 6 mặt, trong đó có 2 mặt đáy có diện tích là chiều dài nhân chiều rộng, tức là 5dm x 3,5dm = 17,5dm2.\\n\\nCòn lại có 4 mặt bên, mỗi mặt bên có diện tích là chiều dài nhân chiều cao, tức là 5dm x 2dm = 10dm2.\\n\\nVậy tổng diện tích xung quanh của hình hộp chữ nhật là 2 lần diện tích đáy cộng với tổng diện tích 4 mặt bên, tức là 17,5dm2 + 4 x 10dm2 = 17,5dm2 + 40dm2 = 57,5dm2.\\n\\nTuy nhiên, trong các lựa chọn đã cho, không có đáp án là 57,5dm2. Vậy ta cần xem xét lại.\\n\\nĐể tính diện tích xung quanh của hình hộp chữ nhật, ta cần tính tổng diện tích của các mặt bên của hình hộp.\\n\\nHình hộp chữ nhật có 6 mặt, trong đó có 2 mặt đáy có diện tích là chiều dài nhân chiều rộng, tức là 5dm x 3,5dm = 17,5dm2.\\n\\nCòn lại có 4 mặt bên, mỗi mặt bên có diện tích là chiều dài nhân chiều cao, tức là 5dm x 2dm = 10dm2.\\n\\nVậy tổng diện tích xung quanh của hình hộp chữ nhật là 2 lần diện tích đáy cộng với tổng diện tích 4 mặt bên, tức là 17,5dm2 + 4 x 10dm2 = 17,5dm2 + 40dm2 = 57,5dm2.\\n\\nTuy nhiên, trong các lựa chọn đã cho, không có đáp án là 57,5dm2. Vậy ta cần xem xét lại.\\n\\nĐể tính diện tích xung quanh của hình hộp chữ nhật, ta cần tính tổng diện tích của các mặt bên của hình hộp.\\n\\nHình hộp chữ nhật có 6 mặt, trong đó có 2 mặt đáy có diện tích là chiều dài nhân chiều rộng, tức là 5dm x 3,5dm = 17,5dm2.\\n\\nCòn lại có 4 mặt bên, mỗi mặt bên có diện tích là chiều dài nhân chiều cao, tức là 5dm x 2dm = 10dm2.\\n\\nVậy tổng diện tích xung quanh của hình hộp chữ nhật là 2 lần diện tích đáy cộng với tổng diện tích 4 mặt bên, tức là 17,5dm2 + 4 x 10dm2 = 17,5dm2 + 40dm2 = 57,5dm2.\\n\\nTuy nhiên, trong các lựa chọn đã cho, không có đáp án là 57,5dm2. Vậy ta cần xem xét lại.\\n\\nĐể tính diện tích xung quanh của hình hộp chữ nhật, ta cần tính tổng diện tích của các mặt bên của hình hộp.\\n\\nHình hộp chữ nhật có 6 mặt, trong đó có 2 mặt đáy có diện tích là chiều dài nhân chiều rộng, tức là 5dm x 3,5dm = 17,5dm2.\\n\\nCòn lại có 4 mặt bên, mỗi mặt bên có diện tích là chiều dài nhân chiều cao, tức là 5dm x 2dm = 10dm2.\\n\\nVậy tổng diện tích xung quanh của hình hộp chữ nhật là 2 lần diện tích đáy cộng với tổng diện tích 4 mặt bên, tức là 17,5dm2 + 4 x 10dm2 = 17,5dm2 + 40dm2 = 57,5dm2.\\n\\nTuy nhiên, trong các lựa chọn đã cho, không có đáp án là 57,5dm2. Vậy ta cần xem xét lại.\\n\\nĐể tính diện tích xung quanh của hình hộp chữ nhật, ta cần tính tổng diện tích của các mặt bên của hình hộp.\\n\\nHình hộp chữ nhật có 6 mặt, trong đó có 2 mặt đáy có diện tích là chiều dài nhân chiều rộng, tức là 5dm x 3,5dm = 17,5dm2.\\n\\nCòn lại có 4 mặt bên, mỗi mặt bên có diện tích là chiều dài nhân chiều cao, tức là 5dm x 2dm = 10dm2.\\n\\nVậy tổng diện tích xung quanh của hình hộp chữ nhật là 2 lần diện tích đáy cộng với tổng diện tích 4 mặt bên, tức là 17,5dm2 + 4 x 10dm2 = 17,5dm2 + 40dm2 = 57,5dm2.\\n\\nTuy nhiên, trong các lựa chọn đã cho, không có đáp án là 57,5dm2. Vậy ta cần xem xét lại.\\n\\nĐể tính diện tích xung quanh của hình hộp chữ nhật, ta cần tính tổng diện tích của các mặt bên của hình hộp.\\n\\nHình hộp chữ nhật có 6 mặt, trong đó có 2 mặt đáy có diện tích là chiều dài nhân chiều rộng, tức là 5dm x 3,5dm = 17,5dm2.\\n\\nCòn lại có 4 mặt bên, mỗi mặt bên có diện tích là chiều dài nhân chiều cao, tức là 5dm x 2dm = 10dm2.\\n\\nVậy tổng diện tích xung quanh của hình hộp chữ nhật là 2 lần diện tích đáy cộng với tổng diện tích 4 mặt bên, tức là 17,5dm2 + 4 x 10dm2 = 17,5dm2 + 40dm2 = 57,5dm2.\\n\\nTuy nhiên, trong các lựa chọn đã cho, không có đáp án là 57,5dm2. Vậy ta cần xem xét lại.\\n\\nĐể tính diện tích xung quanh của hình hộp chữ nhật, ta cần tính tổng diện tích của các mặt bên của hình hộp.\\n\\nHình hộp chữ nhật có 6 mặt, trong đó có 2 mặt đáy có diện tích là chiều dài nhân chiều rộng, tức là 5dm x 3,5dm = 17,5dm2.\\n\\nCòn lại có 4 mặt bên, mỗi mặt bên có diện tích là chiều dài nhân chiều cao, tức là 5dm x 2dm = 10dm2.\\n\\nVậy tổng diện tích xung quanh của hình hộp chữ nhật là 2 lần diện tích đáy cộng với tổng diện tích 4 mặt bên, tức là 17,5dm2 + 4 x 10dm2 = 17,5dm2 + 40dm2 = 57,5dm2.\\n\\nTuy nhiên, trong các lựa chọn đã cho, không có đáp án là 57,5dm2. Vậy ta cần xem xét lại.\\n\\nĐể tính diện tích xung quanh của hình hộp chữ nhật, ta cần tính tổng diện tích của các mặt bên của hình hộp.\\n\\nHình hộp chữ nhật có 6 mặt, trong đó có 2 mặt đáy có diện tích là chiều dài nhân chiều rộng, tức là 5dm x 3,5dm = 17,5dm2.\\n\\nCòn lại có 4 mặt bên, mỗi mặt bên có diện tích là chiều dài nhân chiều cao, tức là 5dm x 2dm = 10dm2.\\n\\nVậy tổng diện tích xung quanh của hình hộp chữ nhật là 2 lần diện tích đáy cộng với tổng diện tích 4 mặt bên, tức là 17,5dm2 + 4 x 10dm2 = 17,5dm2 + 40dm2 = 57,5dm2.\\n\\nTuy nhiên, trong các lựa chọn đã cho, không có đáp án là 57,5dm2. Vậy ta cần xem xét lại.\\n\\nĐể tính diện tích xung quanh của hình hộp chữ nhật, ta cần tính tổng diện tích của các mặt bên của hình hộp.\\n\\nHình hộp chữ nhật có 6 mặt, trong đó có 2 mặt đáy có diện tích là chiều dài nhân chiều rộng, tức là 5dm x 3,5dm = 17,5dm2.\\n\\nCòn lại có 4 mặt bên, mỗi mặt bên có diện tích là chiều dài nhân chiều cao, tức là 5dm x 2dm = 10dm2.\\n\\nVậy tổng diện tích xung quanh của hình hộp chữ nhật là 2 lần diện tích đáy cộng với tổng diện tích 4 mặt bên, tức là 17,5dm2 + 4 x 10dm2 = 17,5dm2 + 40dm2 = 57,5dm2.\\n\\nTuy nhiên, trong các lựa chọn đã cho, không có đáp án là 57,5dm2. Vậy ta cần xem xét lại.\\n\\nĐể tính diện tích xung quanh của hình hộp chữ nhật, ta cần tính tổng diện tích của các mặt bên của hình hộp.\\n\\nHình hộp chữ nhật có 6 mặt, trong đó có 2 mặt đáy có diện tích là chiều dài nhân chiều rộng, tức là 5dm x 3,5dm = 17,5dm2.\\n\\nCòn lại có 4 mặt bên, mỗi mặt bên có diện tích là chiều dài nhân chiều cao, tức là 5dm x 2dm = 10dm2.\\n\\nVậy tổng diện tích xung quanh của hình hộp chữ nhật là 2 lần diện tích đáy cộng với tổng diện tích 4 mặt bên, tức là 17,5dm2 + 4 x 10dm2 = 17,5dm2 + 40dm2 = 57,5dm2.\\n\\nTuy nhiên, trong các lựa chọn đã cho, không có đáp án là 57,5dm2. Vậy ta cần xem xét lại.\\n\\nĐể tính diện tích xung quanh của hình hộp chữ nhật, ta cần tính tổng diện tích của các mặt bên của hình hộp.\\n\\nHình hộp chữ nhật có 6 mặt, trong đó có 2 mặt đáy có diện tích là chiều dài nhân chiều rộng, tức là 5dm x 3,5dm = 17,5dm2.\\n\\nCòn lại có 4 mặt bên, mỗi mặt bên có diện tích là'}\n",
      "Để tính diện tích xung quanh của hình hộp chữ nhật, ta cần tính tổng diện tích của các mặt bên của hình hộp.\n",
      "\n",
      "Hình hộp chữ nhật có 6 mặt, trong đó có 2 mặt đáy có diện tích là chiều dài nhân chiều rộng, tức là 5dm x 3,5dm = 17,5dm2.\n",
      "\n",
      "Còn lại có 4 mặt bên, mỗi mặt bên có diện tích là chiều dài nhân chiều cao, tức là 5dm x 2dm = 10dm2.\n",
      "\n",
      "Vậy tổng diện tích xung quanh của hình hộp chữ nhật là 2 lần diện tích đáy cộng với tổng diện tích 4 mặt bên, tức là 17,5dm2 + 4 x 10dm2 = 17,5dm2 + 40dm2 = 57,5dm2.\n",
      "\n",
      "Tuy nhiên, trong các lựa chọn đã cho, không có đáp án là 57,5dm2. Vậy ta cần xem xét lại.\n",
      "\n",
      "Để tính diện tích xung quanh của hình hộp chữ nhật, ta cần tính tổng diện tích của các mặt bên của hình hộp.\n",
      "\n",
      "Hình hộp chữ nhật có 6 mặt, trong đó có 2 mặt đáy có diện tích là chiều dài nhân chiều rộng, tức là 5dm x 3,5dm = 17,5dm2.\n",
      "\n",
      "Còn lại có 4 mặt bên, mỗi mặt bên có diện tích là chiều dài nhân chiều cao, tức là 5dm x 2dm = 10dm2.\n",
      "\n",
      "Vậy tổng diện tích xung quanh của hình hộp chữ nhật là 2 lần diện tích đáy cộng với tổng diện tích 4 mặt bên, tức là 17,5dm2 + 4 x 10dm2 = 17,5dm2 + 40dm2 = 57,5dm2.\n",
      "\n",
      "Tuy nhiên, trong các lựa chọn đã cho, không có đáp án là 57,5dm2. Vậy ta cần xem xét lại.\n",
      "\n",
      "Để tính diện tích xung quanh của hình hộp chữ nhật, ta cần tính tổng diện tích của các mặt bên của hình hộp.\n",
      "\n",
      "Hình hộp chữ nhật có 6 mặt, trong đó có 2 mặt đáy có diện tích là chiều dài nhân chiều rộng, tức là 5dm x 3,5dm = 17,5dm2.\n",
      "\n",
      "Còn lại có 4 mặt bên, mỗi mặt bên có diện tích là chiều dài nhân chiều cao, tức là 5dm x 2dm = 10dm2.\n",
      "\n",
      "Vậy tổng diện tích xung quanh của hình hộp chữ nhật là 2 lần diện tích đáy cộng với tổng diện tích 4 mặt bên, tức là 17,5dm2 + 4 x 10dm2 = 17,5dm2 + 40dm2 = 57,5dm2.\n",
      "\n",
      "Tuy nhiên, trong các lựa chọn đã cho, không có đáp án là 57,5dm2. Vậy ta cần xem xét lại.\n",
      "\n",
      "Để tính diện tích xung quanh của hình hộp chữ nhật, ta cần tính tổng diện tích của các mặt bên của hình hộp.\n",
      "\n",
      "Hình hộp chữ nhật có 6 mặt, trong đó có 2 mặt đáy có diện tích là chiều dài nhân chiều rộng, tức là 5dm x 3,5dm = 17,5dm2.\n",
      "\n",
      "Còn lại có 4 mặt bên, mỗi mặt bên có diện tích là chiều dài nhân chiều cao, tức là 5dm x 2dm = 10dm2.\n",
      "\n",
      "Vậy tổng diện tích xung quanh của hình hộp chữ nhật là 2 lần diện tích đáy cộng với tổng diện tích 4 mặt bên, tức là 17,5dm2 + 4 x 10dm2 = 17,5dm2 + 40dm2 = 57,5dm2.\n",
      "\n",
      "Tuy nhiên, trong các lựa chọn đã cho, không có đáp án là 57,5dm2. Vậy ta cần xem xét lại.\n",
      "\n",
      "Để tính diện tích xung quanh của hình hộp chữ nhật, ta cần tính tổng diện tích của các mặt bên của hình hộp.\n",
      "\n",
      "Hình hộp chữ nhật có 6 mặt, trong đó có 2 mặt đáy có diện tích là chiều dài nhân chiều rộng, tức là 5dm x 3,5dm = 17,5dm2.\n",
      "\n",
      "Còn lại có 4 mặt bên, mỗi mặt bên có diện tích là chiều dài nhân chiều cao, tức là 5dm x 2dm = 10dm2.\n",
      "\n",
      "Vậy tổng diện tích xung quanh của hình hộp chữ nhật là 2 lần diện tích đáy cộng với tổng diện tích 4 mặt bên, tức là 17,5dm2 + 4 x 10dm2 = 17,5dm2 + 40dm2 = 57,5dm2.\n",
      "\n",
      "Tuy nhiên, trong các lựa chọn đã cho, không có đáp án là 57,5dm2. Vậy ta cần xem xét lại.\n",
      "\n",
      "Để tính diện tích xung quanh của hình hộp chữ nhật, ta cần tính tổng diện tích của các mặt bên của hình hộp.\n",
      "\n",
      "Hình hộp chữ nhật có 6 mặt, trong đó có 2 mặt đáy có diện tích là chiều dài nhân chiều rộng, tức là 5dm x 3,5dm = 17,5dm2.\n",
      "\n",
      "Còn lại có 4 mặt bên, mỗi mặt bên có diện tích là chiều dài nhân chiều cao, tức là 5dm x 2dm = 10dm2.\n",
      "\n",
      "Vậy tổng diện tích xung quanh của hình hộp chữ nhật là 2 lần diện tích đáy cộng với tổng diện tích 4 mặt bên, tức là 17,5dm2 + 4 x 10dm2 = 17,5dm2 + 40dm2 = 57,5dm2.\n",
      "\n",
      "Tuy nhiên, trong các lựa chọn đã cho, không có đáp án là 57,5dm2. Vậy ta cần xem xét lại.\n",
      "\n",
      "Để tính diện tích xung quanh của hình hộp chữ nhật, ta cần tính tổng diện tích của các mặt bên của hình hộp.\n",
      "\n",
      "Hình hộp chữ nhật có 6 mặt, trong đó có 2 mặt đáy có diện tích là chiều dài nhân chiều rộng, tức là 5dm x 3,5dm = 17,5dm2.\n",
      "\n",
      "Còn lại có 4 mặt bên, mỗi mặt bên có diện tích là chiều dài nhân chiều cao, tức là 5dm x 2dm = 10dm2.\n",
      "\n",
      "Vậy tổng diện tích xung quanh của hình hộp chữ nhật là 2 lần diện tích đáy cộng với tổng diện tích 4 mặt bên, tức là 17,5dm2 + 4 x 10dm2 = 17,5dm2 + 40dm2 = 57,5dm2.\n",
      "\n",
      "Tuy nhiên, trong các lựa chọn đã cho, không có đáp án là 57,5dm2. Vậy ta cần xem xét lại.\n",
      "\n",
      "Để tính diện tích xung quanh của hình hộp chữ nhật, ta cần tính tổng diện tích của các mặt bên của hình hộp.\n",
      "\n",
      "Hình hộp chữ nhật có 6 mặt, trong đó có 2 mặt đáy có diện tích là chiều dài nhân chiều rộng, tức là 5dm x 3,5dm = 17,5dm2.\n",
      "\n",
      "Còn lại có 4 mặt bên, mỗi mặt bên có diện tích là chiều dài nhân chiều cao, tức là 5dm x 2dm = 10dm2.\n",
      "\n",
      "Vậy tổng diện tích xung quanh của hình hộp chữ nhật là 2 lần diện tích đáy cộng với tổng diện tích 4 mặt bên, tức là 17,5dm2 + 4 x 10dm2 = 17,5dm2 + 40dm2 = 57,5dm2.\n",
      "\n",
      "Tuy nhiên, trong các lựa chọn đã cho, không có đáp án là 57,5dm2. Vậy ta cần xem xét lại.\n",
      "\n",
      "Để tính diện tích xung quanh của hình hộp chữ nhật, ta cần tính tổng diện tích của các mặt bên của hình hộp.\n",
      "\n",
      "Hình hộp chữ nhật có 6 mặt, trong đó có 2 mặt đáy có diện tích là chiều dài nhân chiều rộng, tức là 5dm x 3,5dm = 17,5dm2.\n",
      "\n",
      "Còn lại có 4 mặt bên, mỗi mặt bên có diện tích là chiều dài nhân chiều cao, tức là 5dm x 2dm = 10dm2.\n",
      "\n",
      "Vậy tổng diện tích xung quanh của hình hộp chữ nhật là 2 lần diện tích đáy cộng với tổng diện tích 4 mặt bên, tức là 17,5dm2 + 4 x 10dm2 = 17,5dm2 + 40dm2 = 57,5dm2.\n",
      "\n",
      "Tuy nhiên, trong các lựa chọn đã cho, không có đáp án là 57,5dm2. Vậy ta cần xem xét lại.\n",
      "\n",
      "Để tính diện tích xung quanh của hình hộp chữ nhật, ta cần tính tổng diện tích của các mặt bên của hình hộp.\n",
      "\n",
      "Hình hộp chữ nhật có 6 mặt, trong đó có 2 mặt đáy có diện tích là chiều dài nhân chiều rộng, tức là 5dm x 3,5dm = 17,5dm2.\n",
      "\n",
      "Còn lại có 4 mặt bên, mỗi mặt bên có diện tích là chiều dài nhân chiều cao, tức là 5dm x 2dm = 10dm2.\n",
      "\n",
      "Vậy tổng diện tích xung quanh của hình hộp chữ nhật là 2 lần diện tích đáy cộng với tổng diện tích 4 mặt bên, tức là 17,5dm2 + 4 x 10dm2 = 17,5dm2 + 40dm2 = 57,5dm2.\n",
      "\n",
      "Tuy nhiên, trong các lựa chọn đã cho, không có đáp án là 57,5dm2. Vậy ta cần xem xét lại.\n",
      "\n",
      "Để tính diện tích xung quanh của hình hộp chữ nhật, ta cần tính tổng diện tích của các mặt bên của hình hộp.\n",
      "\n",
      "Hình hộp chữ nhật có 6 mặt, trong đó có 2 mặt đáy có diện tích là chiều dài nhân chiều rộng, tức là 5dm x 3,5dm = 17,5dm2.\n",
      "\n",
      "Còn lại có 4 mặt bên, mỗi mặt bên có diện tích là chiều dài nhân chiều cao, tức là 5dm x 2dm = 10dm2.\n",
      "\n",
      "Vậy tổng diện tích xung quanh của hình hộp chữ nhật là 2 lần diện tích đáy cộng với tổng diện tích 4 mặt bên, tức là 17,5dm2 + 4 x 10dm2 = 17,5dm2 + 40dm2 = 57,5dm2.\n",
      "\n",
      "Tuy nhiên, trong các lựa chọn đã cho, không có đáp án là 57,5dm2. Vậy ta cần xem xét lại.\n",
      "\n",
      "Để tính diện tích xung quanh của hình hộp chữ nhật, ta cần tính tổng diện tích của các mặt bên của hình hộp.\n",
      "\n",
      "Hình hộp chữ nhật có 6 mặt, trong đó có 2 mặt đáy có diện tích là chiều dài nhân chiều rộng, tức là 5dm x 3,5dm = 17,5dm2.\n",
      "\n",
      "Còn lại có 4 mặt bên, mỗi mặt bên có diện tích là chiều dài nhân chiều cao, tức là 5dm x 2dm = 10dm2.\n",
      "\n",
      "Vậy tổng diện tích xung quanh của hình hộp chữ nhật là 2 lần diện tích đáy cộng với tổng diện tích 4 mặt bên, tức là 17,5dm2 + 4 x 10dm2 = 17,5dm2 + 40dm2 = 57,5dm2.\n",
      "\n",
      "Tuy nhiên, trong các lựa chọn đã cho, không có đáp án là 57,5dm2. Vậy ta cần xem xét lại.\n",
      "\n",
      "Để tính diện tích xung quanh của hình hộp chữ nhật, ta cần tính tổng diện tích của các mặt bên của hình hộp.\n",
      "\n",
      "Hình hộp chữ nhật có 6 mặt, trong đó có 2 mặt đáy có diện tích là chiều dài nhân chiều rộng, tức là 5dm x 3,5dm = 17,5dm2.\n",
      "\n",
      "Còn lại có 4 mặt bên, mỗi mặt bên có diện tích là\n"
     ]
    }
   ],
   "source": [
    "data = load_json('/home/pphuc/Coding/Project/ZAIC-2023-Elementary-Math-Solving/datasets/raw/gpt-35-only-missing/file_626.json')\n",
    "print(data)\n",
    "print(data['explaination'])"
   ]
  },
  {
   "cell_type": "code",
   "execution_count": 304,
   "metadata": {},
   "outputs": [
    {
     "data": {
      "text/plain": [
       "{'id': '915',\n",
       " 'question': 'Một hình hộp chữ nhật có chiều dài 5dm, chiều rộng là 3,5dm và chiều cao là 2dm. Diện tích xung quanh của hình hộp chữ nhật đó là:',\n",
       " 'explaination': 'Để tính diện tích xung quanh của hình hộp chữ nhật, ta cần tính tổng diện tích của các mặt bên của hình hộp.\\n\\nHình hộp chữ nhật có 6 mặt, trong đó có 2 mặt đáy có diện tích là chiều dài nhân chiều rộng, tức là 5dm x 3,5dm = 17,5dm2.\\n\\nCòn lại có 4 mặt bên, mỗi mặt bên có diện tích là chiều dài nhân chiều cao, tức là 5dm x 2dm = 10dm2.\\n\\nVậy tổng diện tích xung quanh của hình hộp chữ nhật là 2 lần diện tích đáy cộng với tổng diện tích 4 mặt bên, tức là 17,5dm2 + 4 x 10dm2 = 17,5dm2 + 40dm2 = 57,5dm2.\\n\\nTuy nhiên, trong các lựa chọn đã cho, không có đáp án là 57,5dm2. Vậy ta cần xem xét lại.\\n\\nĐể tính diện tích xung quanh của hình hộp chữ nhật, ta cần tính tổng diện tích của các mặt bên của hình hộp.\\n\\nHình hộp chữ nhật có 6 mặt, trong đó có 2 mặt đáy có diện tích là chiều dài nhân chiều rộng, tức là 5dm x 3,5dm = 17,5dm2.\\n\\nCòn lại có 4 mặt bên, mỗi mặt bên có diện tích là chiều dài nhân chiều cao, tức là 5dm x 2dm = 10dm2.\\n\\nVậy tổng diện tích xung quanh của hình hộp chữ nhật là 2 lần diện tích đáy cộng với tổng diện tích 4 mặt bên, tức là 17,5dm2 + 4 x 10dm2 = 17,5dm2 + 40dm2 = 57,5dm2.\\n\\nTuy nhiên, trong các lựa chọn đã cho, không có đáp án là 57,5dm2. Vậy ta cần xem xét lại.\\n\\nĐể tính diện tích xung quanh của hình hộp chữ nhật, ta cần tính tổng diện tích của các mặt bên của hình hộp.\\n\\nHình hộp chữ nhật có 6 mặt, trong đó có 2 mặt đáy có diện tích là chiều dài nhân chiều rộng, tức là 5dm x 3,5dm = 17,5dm2.\\n\\nCòn lại có 4 mặt bên, mỗi mặt bên có diện tích là chiều dài nhân chiều cao, tức là 5dm x 2dm = 10dm2.\\n\\nVậy tổng diện tích xung quanh của hình hộp chữ nhật là 2 lần diện tích đáy cộng với tổng diện tích 4 mặt bên, tức là 17,5dm2 + 4 x 10dm2 = 17,5dm2 + 40dm2 = 57,5dm2.\\n\\nTuy nhiên, trong các lựa chọn đã cho, không có đáp án là 57,5dm2. Vậy ta cần xem xét lại.\\n\\nĐể tính diện tích xung quanh của hình hộp chữ nhật, ta cần tính tổng diện tích của các mặt bên của hình hộp.\\n\\nHình hộp chữ nhật có 6 mặt, trong đó có 2 mặt đáy có diện tích là chiều dài nhân chiều rộng, tức là 5dm x 3,5dm = 17,5dm2.\\n\\nCòn lại có 4 mặt bên, mỗi mặt bên có diện tích là chiều dài nhân chiều cao, tức là 5dm x 2dm = 10dm2.\\n\\nVậy tổng diện tích xung quanh của hình hộp chữ nhật là 2 lần diện tích đáy cộng với tổng diện tích 4 mặt bên, tức là 17,5dm2 + 4 x 10dm2 = 17,5dm2 + 40dm2 = 57,5dm2.\\n\\nTuy nhiên, trong các lựa chọn đã cho, không có đáp án là 57,5dm2. Vậy ta cần xem xét lại.\\n\\nĐể tính diện tích xung quanh của hình hộp chữ nhật, ta cần tính tổng diện tích của các mặt bên của hình hộp.\\n\\nHình hộp chữ nhật có 6 mặt, trong đó có 2 mặt đáy có diện tích là chiều dài nhân chiều rộng, tức là 5dm x 3,5dm = 17,5dm2.\\n\\nCòn lại có 4 mặt bên, mỗi mặt bên có diện tích là chiều dài nhân chiều cao, tức là 5dm x 2dm = 10dm2.\\n\\nVậy tổng diện tích xung quanh của hình hộp chữ nhật là 2 lần diện tích đáy cộng với tổng diện tích 4 mặt bên, tức là 17,5dm2 + 4 x 10dm2 = 17,5dm2 + 40dm2 = 57,5dm2.\\n\\nTuy nhiên, trong các lựa chọn đã cho, không có đáp án là 57,5dm2. Vậy ta cần xem xét lại.\\n\\nĐể tính diện tích xung quanh của hình hộp chữ nhật, ta cần tính tổng diện tích của các mặt bên của hình hộp.\\n\\nHình hộp chữ nhật có 6 mặt, trong đó có 2 mặt đáy có diện tích là chiều dài nhân chiều rộng, tức là 5dm x 3,5dm = 17,5dm2.\\n\\nCòn lại có 4 mặt bên, mỗi mặt bên có diện tích là chiều dài nhân chiều cao, tức là 5dm x 2dm = 10dm2.\\n\\nVậy tổng diện tích xung quanh của hình hộp chữ nhật là 2 lần diện tích đáy cộng với tổng diện tích 4 mặt bên, tức là 17,5dm2 + 4 x 10dm2 = 17,5dm2 + 40dm2 = 57,5dm2.\\n\\nTuy nhiên, trong các lựa chọn đã cho, không có đáp án là 57,5dm2. Vậy ta cần xem xét lại.\\n\\nĐể tính diện tích xung quanh của hình hộp chữ nhật, ta cần tính tổng diện tích của các mặt bên của hình hộp.\\n\\nHình hộp chữ nhật có 6 mặt, trong đó có 2 mặt đáy có diện tích là chiều dài nhân chiều rộng, tức là 5dm x 3,5dm = 17,5dm2.\\n\\nCòn lại có 4 mặt bên, mỗi mặt bên có diện tích là chiều dài nhân chiều cao, tức là 5dm x 2dm = 10dm2.\\n\\nVậy tổng diện tích xung quanh của hình hộp chữ nhật là 2 lần diện tích đáy cộng với tổng diện tích 4 mặt bên, tức là 17,5dm2 + 4 x 10dm2 = 17,5dm2 + 40dm2 = 57,5dm2.\\n\\nTuy nhiên, trong các lựa chọn đã cho, không có đáp án là 57,5dm2. Vậy ta cần xem xét lại.\\n\\nĐể tính diện tích xung quanh của hình hộp chữ nhật, ta cần tính tổng diện tích của các mặt bên của hình hộp.\\n\\nHình hộp chữ nhật có 6 mặt, trong đó có 2 mặt đáy có diện tích là chiều dài nhân chiều rộng, tức là 5dm x 3,5dm = 17,5dm2.\\n\\nCòn lại có 4 mặt bên, mỗi mặt bên có diện tích là chiều dài nhân chiều cao, tức là 5dm x 2dm = 10dm2.\\n\\nVậy tổng diện tích xung quanh của hình hộp chữ nhật là 2 lần diện tích đáy cộng với tổng diện tích 4 mặt bên, tức là 17,5dm2 + 4 x 10dm2 = 17,5dm2 + 40dm2 = 57,5dm2.\\n\\nTuy nhiên, trong các lựa chọn đã cho, không có đáp án là 57,5dm2. Vậy ta cần xem xét lại.\\n\\nĐể tính diện tích xung quanh của hình hộp chữ nhật, ta cần tính tổng diện tích của các mặt bên của hình hộp.\\n\\nHình hộp chữ nhật có 6 mặt, trong đó có 2 mặt đáy có diện tích là chiều dài nhân chiều rộng, tức là 5dm x 3,5dm = 17,5dm2.\\n\\nCòn lại có 4 mặt bên, mỗi mặt bên có diện tích là chiều dài nhân chiều cao, tức là 5dm x 2dm = 10dm2.\\n\\nVậy tổng diện tích xung quanh của hình hộp chữ nhật là 2 lần diện tích đáy cộng với tổng diện tích 4 mặt bên, tức là 17,5dm2 + 4 x 10dm2 = 17,5dm2 + 40dm2 = 57,5dm2.\\n\\nTuy nhiên, trong các lựa chọn đã cho, không có đáp án là 57,5dm2. Vậy ta cần xem xét lại.\\n\\nĐể tính diện tích xung quanh của hình hộp chữ nhật, ta cần tính tổng diện tích của các mặt bên của hình hộp.\\n\\nHình hộp chữ nhật có 6 mặt, trong đó có 2 mặt đáy có diện tích là chiều dài nhân chiều rộng, tức là 5dm x 3,5dm = 17,5dm2.\\n\\nCòn lại có 4 mặt bên, mỗi mặt bên có diện tích là chiều dài nhân chiều cao, tức là 5dm x 2dm = 10dm2.\\n\\nVậy tổng diện tích xung quanh của hình hộp chữ nhật là 2 lần diện tích đáy cộng với tổng diện tích 4 mặt bên, tức là 17,5dm2 + 4 x 10dm2 = 17,5dm2 + 40dm2 = 57,5dm2.\\n\\nTuy nhiên, trong các lựa chọn đã cho, không có đáp án là 57,5dm2. Vậy ta cần xem xét lại.\\n\\nĐể tính diện tích xung quanh của hình hộp chữ nhật, ta cần tính tổng diện tích của các mặt bên của hình hộp.\\n\\nHình hộp chữ nhật có 6 mặt, trong đó có 2 mặt đáy có diện tích là chiều dài nhân chiều rộng, tức là 5dm x 3,5dm = 17,5dm2.\\n\\nCòn lại có 4 mặt bên, mỗi mặt bên có diện tích là chiều dài nhân chiều cao, tức là 5dm x 2dm = 10dm2.\\n\\nVậy tổng diện tích xung quanh của hình hộp chữ nhật là 2 lần diện tích đáy cộng với tổng diện tích 4 mặt bên, tức là 17,5dm2 + 4 x 10dm2 = 17,5dm2 + 40dm2 = 57,5dm2.\\n\\nTuy nhiên, trong các lựa chọn đã cho, không có đáp án là 57,5dm2. Vậy ta cần xem xét lại.\\n\\nĐể tính diện tích xung quanh của hình hộp chữ nhật, ta cần tính tổng diện tích của các mặt bên của hình hộp.\\n\\nHình hộp chữ nhật có 6 mặt, trong đó có 2 mặt đáy có diện tích là chiều dài nhân chiều rộng, tức là 5dm x 3,5dm = 17,5dm2.\\n\\nCòn lại có 4 mặt bên, mỗi mặt bên có diện tích là chiều dài nhân chiều cao, tức là 5dm x 2dm = 10dm2.\\n\\nVậy tổng diện tích xung quanh của hình hộp chữ nhật là 2 lần diện tích đáy cộng với tổng diện tích 4 mặt bên, tức là 17,5dm2 + 4 x 10dm2 = 17,5dm2 + 40dm2 = 57,5dm2.\\n\\nTuy nhiên, trong các lựa chọn đã cho, không có đáp án là 57,5dm2. Vậy ta cần xem xét lại.\\n\\nĐể tính diện tích xung quanh của hình hộp chữ nhật, ta cần tính tổng diện tích của các mặt bên của hình hộp.\\n\\nHình hộp chữ nhật có 6 mặt, trong đó có 2 mặt đáy có diện tích là chiều dài nhân chiều rộng, tức là 5dm x 3,5dm = 17,5dm2.\\n\\nCòn lại có 4 mặt bên, mỗi mặt bên có diện tích là'}"
      ]
     },
     "execution_count": 304,
     "metadata": {},
     "output_type": "execute_result"
    }
   ],
   "source": [
    "data"
   ]
  },
  {
   "cell_type": "code",
   "execution_count": 305,
   "metadata": {},
   "outputs": [],
   "source": [
    "prompt_path = \"/home/pphuc/Coding/Project/ZAIC-2023-Elementary-Math-Solving/datasets/prompt/gen_explain.txt\"\n",
    "raw_data_path = \"Coding/Project/ZAIC-2023-Elementary-Math-Solving/datasets/math_train.json'\"\n",
    "\n",
    "raw_data = load_json('/home/pphuc/Coding/Project/ZAIC-2023-Elementary-Math-Solving/datasets/math_train.json')\n",
    "prompt = load_text(prompt_path)\n",
    "prefixes = ['A.', 'B.', 'C.', 'D.']\n",
    "\n",
    "for data in raw_data['data']:\n",
    "    if data['id'] == '915': break\n",
    "\n",
    "modified_choices = [choice if not any(choice.startswith(p) for p in prefixes) else '- ' + choice.split('. ', 1)[1] for choice in data['choices']]\n",
    "choices = '\\n'.join(modified_choices)\n",
    "\n",
    "new_prompt = prompt.format(\n",
    "    question=data['question'],\n",
    "    choices=choices,\n",
    "    answer=data['answer'][3:]  # Remove the A B C D.\n",
    ")"
   ]
  },
  {
   "cell_type": "code",
   "execution_count": 306,
   "metadata": {},
   "outputs": [
    {
     "data": {
      "text/plain": [
       "'Act as you are a really good in explaination, apply the technique Feyman really well, I will give you one question and the task of you is to answer with explain (the answer will be provided, you just need to answer why the answer is this), because this is related to math so have a explain step by step is cool\\nbut remember that, your answer is in Vietnamese, you should answer me in Vietnamese language\\n\\nQuestion:\\nMột hình hộp chữ nhật có chiều dài 5dm, chiều rộng là 3,5dm và chiều cao là 2dm. Diện tích xung quanh của hình hộp chữ nhật đó là:\\n\\nChoices:\\n- 13,5dm2\\n- 17dm2\\n- 35dm2\\n- 34dm2\\n\\nAnswer:\\n34dm2'"
      ]
     },
     "execution_count": 306,
     "metadata": {},
     "output_type": "execute_result"
    }
   ],
   "source": [
    "new_prompt"
   ]
  },
  {
   "cell_type": "code",
   "execution_count": 307,
   "metadata": {},
   "outputs": [],
   "source": [
    "#Note: The openai-python library support for Azure OpenAI is in preview.\n",
    "import os\n",
    "import openai\n",
    "openai.api_type = \"azure\"\n",
    "openai.api_base = \"https://openai-enterprise-dci-eastus2-001.openai.azure.com/\"\n",
    "openai.api_version = \"2023-05-15\"\n",
    "# openai.api_key = os.getenv(\"OPENAI_API_KEY\")\n",
    "openai.api_key = \"85e60bdf45bb4f3eb5c964428abdf99b\"\n",
    "\n",
    "response = openai.ChatCompletion.create(\n",
    "  engine=\"gpt-35-turbo\", # replace this value with the deployment name you chose when you deployed the associated model.\n",
    "  messages = [{\"role\":\"system\",\"content\": new_prompt}],\n",
    "  temperature=0.3,\n",
    "  top_p=0.95,\n",
    "  frequency_penalty=0,\n",
    "  presence_penalty=0,\n",
    "  stop=None)\n",
    "  # max_tokens=350,"
   ]
  },
  {
   "cell_type": "code",
   "execution_count": 308,
   "metadata": {},
   "outputs": [
    {
     "data": {
      "text/plain": [
       "{'id': '915',\n",
       " 'question': 'Một hình hộp chữ nhật có chiều dài 5dm, chiều rộng là 3,5dm và chiều cao là 2dm. Diện tích xung quanh của hình hộp chữ nhật đó là:',\n",
       " 'explaination': 'Để tính diện tích xung quanh của hình hộp chữ nhật, ta cần tính tổng diện tích của các mặt bên của hình hộp.\\n\\nHình hộp chữ nhật có chiều dài là 5dm, chiều rộng là 3,5dm và chiều cao là 2dm.\\n\\nĐể tính diện tích mặt bên, ta có công thức: Diện tích mặt bên = 2 * (chiều dài + chiều rộng) * chiều cao.\\n\\nThay vào công thức, ta có: Diện tích mặt bên = 2 * (5dm + 3,5dm) * 2dm = 2 * 8,5dm * 2dm = 34dm2.\\n\\nVậy, diện tích xung quanh của hình hộp chữ nhật đó là 34dm2.'}"
      ]
     },
     "execution_count": 308,
     "metadata": {},
     "output_type": "execute_result"
    }
   ],
   "source": [
    "data_format = {\n",
    "    \"id\": data['id'],\n",
    "    \"question\": data['question'],\n",
    "    \"explaination\": response['choices'][0]['message']['content']\n",
    "}\n",
    "\n",
    "data_format"
   ]
  },
  {
   "cell_type": "code",
   "execution_count": 309,
   "metadata": {},
   "outputs": [
    {
     "name": "stdout",
     "output_type": "stream",
     "text": [
      "Để tính diện tích xung quanh của hình hộp chữ nhật, ta cần tính tổng diện tích của các mặt bên của hình hộp.\n",
      "\n",
      "Hình hộp chữ nhật có chiều dài là 5dm, chiều rộng là 3,5dm và chiều cao là 2dm.\n",
      "\n",
      "Để tính diện tích mặt bên, ta có công thức: Diện tích mặt bên = 2 * (chiều dài + chiều rộng) * chiều cao.\n",
      "\n",
      "Thay vào công thức, ta có: Diện tích mặt bên = 2 * (5dm + 3,5dm) * 2dm = 2 * 8,5dm * 2dm = 34dm2.\n",
      "\n",
      "Vậy, diện tích xung quanh của hình hộp chữ nhật đó là 34dm2.\n"
     ]
    }
   ],
   "source": [
    "print(response['choices'][0]['message']['content'])"
   ]
  },
  {
   "cell_type": "code",
   "execution_count": 302,
   "metadata": {},
   "outputs": [],
   "source": [
    "def save_json(path, file_save):\n",
    "    with open(path, 'w') as f: return json.dump(file_save, f)\n",
    "\n",
    "save_json(path='/home/pphuc/Coding/Project/ZAIC-2023-Elementary-Math-Solving/datasets/raw/gpt-35-only-missing/file_626.json', file_save=data_format)"
   ]
  },
  {
   "cell_type": "code",
   "execution_count": null,
   "metadata": {},
   "outputs": [],
   "source": []
  }
 ],
 "metadata": {
  "kernelspec": {
   "display_name": "AI",
   "language": "python",
   "name": "python3"
  },
  "language_info": {
   "codemirror_mode": {
    "name": "ipython",
    "version": 3
   },
   "file_extension": ".py",
   "mimetype": "text/x-python",
   "name": "python",
   "nbconvert_exporter": "python",
   "pygments_lexer": "ipython3",
   "version": "3.9.16"
  }
 },
 "nbformat": 4,
 "nbformat_minor": 2
}
