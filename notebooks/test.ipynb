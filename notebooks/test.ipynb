{
 "cells": [
  {
   "cell_type": "code",
   "execution_count": 63,
   "metadata": {},
   "outputs": [],
   "source": [
    "import json\n",
    "import random"
   ]
  },
  {
   "cell_type": "code",
   "execution_count": 64,
   "metadata": {},
   "outputs": [],
   "source": [
    "def load_json(path):\n",
    "    with open(path, 'r') as f: return json.load(f)\n",
    "\n",
    "def load_text(path):\n",
    "    with open(path, 'r') as file: return file.read()\n",
    "\n",
    "def number_choice_sample(number_sample=1200):\n",
    "    number_choice1, number_choice2, number_choice3 = random.choices(range(number_sample), k=3)\n",
    "    return number_choice1, number_choice2, number_choice3"
   ]
  },
  {
   "cell_type": "code",
   "execution_count": 65,
   "metadata": {},
   "outputs": [],
   "source": [
    "raw_data = load_json('/home/pphuc/Coding/Project/ZAIC-2023-Elementary-Math-Solving/datasets/math_train.json')"
   ]
  },
  {
   "cell_type": "code",
   "execution_count": 66,
   "metadata": {},
   "outputs": [],
   "source": [
    "valid_number=False\n",
    "while not valid_number:\n",
    "    data_list = []\n",
    "    number_choice1, number_choice2, number_choice3 = number_choice_sample()\n",
    "    for data in [raw_data['data'][number_choice1], raw_data['data'][number_choice2], raw_data['data'][number_choice3]]:\n",
    "        if 'explanation' not in data.keys(): break\n",
    "        data.pop('id')\n",
    "        data_list.append(data)\n",
    "    if len(data_list) == 3:\n",
    "        valid_number=True\n",
    "\n",
    "prompt = load_text('/home/pphuc/Coding/Project/ZAIC-2023-Elementary-Math-Solving/datasets/prompt/generate_multiple_questions.txt')\n",
    "new_prompt = prompt.format(\n",
    "    multiple_choice1=data_list[0],\n",
    "    multiple_choice2=data_list[1],\n",
    "    multiple_choice3=data_list[2]\n",
    ")"
   ]
  },
  {
   "cell_type": "code",
   "execution_count": 68,
   "metadata": {},
   "outputs": [
    {
     "name": "stdout",
     "output_type": "stream",
     "text": [
      "You are a really senior teacher on primary school, who have more than 10 years experiment in do example question with the level from easy to hard for student, Your task is to generate multiple-choice question with the content of primary school exam, but do not contain question about image\n",
      "here are some examples:\n",
      "{'question': 'Mẹ mua 12 quả cam. Mẹ biếu bà 3 quả, mẹ để phần bố $\\\\frac{1}{4}$ số cam ban đầu. Số còn lại mẹ chia đều cho 2 anh em. Hỏi mỗi anh em được bao nhiêu quả cam?', 'choices': ['A. 4 quả', 'B. 1 quả', 'C. 3 quả', 'D. 2 quả'], 'explanation': 'Mẹ để phần bố số quả cam là: 12 : 4 = 3 (quả)\\n Mẹ còn lại số quả cam là: 12 – 3 – 3 = 6 (quả)\\n Mỗi anh em được số quả cam là: 6 : 2 = 3 (quả)', 'answer': 'C. 3 quả'},\n",
      "{'question': 'Hiệu của 56 và 13 là:', 'choices': ['A. 43', 'B. 69', 'C. 67', 'D. 78'], 'explanation': 'Hiệu của 56 và 13 là: 56 – 13 = 43', 'answer': 'A. 43'},\n",
      "{'question': 'Hoa bán 5 kg giấy cũ, mỗi ki-lô-gam được 8 000 đồng và 1 kg bìa sách cũ được 3 000 đồng. Vậy số tiền Hoa kiếm được là:', 'choices': ['A. 43 000 đồng', 'B. 23 000 đồng', 'C. 11 000 đồng', 'D. 55 000 đồng'], 'explanation': 'Hoa bán 5 kg giấy cũ được số tiền là: 8 000 ${\\\\times}$ 5 = 40 000 (đồng)\\n Số tiền Hoa kiếm được là: 40 000 + 3 000 = 43 000 (đồng)', 'answer': 'A. 43 000 đồng'}\n",
      "the explaination should be more specific as possible to easily to thinking\n",
      "Provide me as much as posible any question related to elementary exam, you should first think step by step and answer in english BY YOUR OWN, then answer me with your thinking by translate them to vietnamese, just answer for me with the version VIETNAMESE\n",
      "you should answer me in json as format\n",
      "{\n",
      "    \"data\": [\n",
      "        your generate\n",
      "    ]\n",
      "}\n"
     ]
    }
   ],
   "source": [
    "print(new_prompt)"
   ]
  }
 ],
 "metadata": {
  "kernelspec": {
   "display_name": "AI",
   "language": "python",
   "name": "python3"
  },
  "language_info": {
   "codemirror_mode": {
    "name": "ipython",
    "version": 3
   },
   "file_extension": ".py",
   "mimetype": "text/x-python",
   "name": "python",
   "nbconvert_exporter": "python",
   "pygments_lexer": "ipython3",
   "version": "3.9.16"
  }
 },
 "nbformat": 4,
 "nbformat_minor": 2
}
